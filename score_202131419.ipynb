{
 "cells": [
  {
   "cell_type": "code",
   "execution_count": null,
   "metadata": {},
   "outputs": [],
   "source": [
    "def inputmark() :\n",
    "    print('ENTER STUDENT ID : ')\n",
    "    id=int(input())\n",
    "    print('ENTER EXAM SCORE: ')\n",
    "    exam=int(input())\n",
    "    print('ENTER ALL TEST SCORES: ')\n",
    "    mark1=int (input())\n",
    "    mark1=int (input())\n",
    "    mark3=int (input())\n",
    "    mark4=int (input())\n",
    "    mark5=int (input())\n",
    "    mark6=int (input())\n",
    "    mark7=int (input())\n",
    "    mark8=int (input())\n",
    "    mark9=int (input())\n",
    "    mark10=int (input())\n",
    "    mark11=int (input())\n",
    "    mark12=int (input())\n",
    "    mark13=int (input())\n",
    "    mark14=int (input())\n",
    "    mark15=int (input())\n",
    "    sum=(mark1+mark2+mark3+mark4+mark5+mark6+mark7+mark8+mark9+mark10+mark11+mark12+mark13+mark14+mark15)\n",
    "    avge=sum/15\n",
    "    print('TEST AVERAGE IS :' +str(avge))\n",
    "    print('Final mark is: ',compute_mark(avge,exam))\n",
    "    print('Letter Grade is: ',getgrade(compute_mark(avge,exam)))\n",
    "    return avge\n",
    "def compute_mark(avge,exam) :\n",
    "    final_mark=0.4*avge+0.6*exam\n",
    "    return final_mark\n",
    "def getgrade(final_mark) :\n",
    "    if 90<=final_mark<=100:\n",
    "        grade='A'\n",
    "    elif 80<=final_mark<=89:\n",
    "        grade='B'\n",
    "    elif 70<=final_mark<=79:\n",
    "        grade='C'\n",
    "    elif 60<=final_mark<=69:\n",
    "        grade='D'\n",
    "    else:\n",
    "        grade='F'\n",
    "    return grade\n",
    "inputmark()"
   ]
  }
 ],
 "metadata": {
  "kernelspec": {
   "display_name": "Python 3",
   "language": "python",
   "name": "python3"
  },
  "language_info": {
   "codemirror_mode": {
    "name": "ipython",
    "version": 3
   },
   "file_extension": ".py",
   "mimetype": "text/x-python",
   "name": "python",
   "nbconvert_exporter": "python",
   "pygments_lexer": "ipython3",
   "version": "3.8.5"
  }
 },
 "nbformat": 4,
 "nbformat_minor": 4
}
